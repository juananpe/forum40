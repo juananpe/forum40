{
 "cells": [
  {
   "cell_type": "code",
   "execution_count": 11,
   "metadata": {},
   "outputs": [],
   "source": [
    "import pandas as pd\n",
    "model_name= \"small_model\"\n",
    "classifier = \"great_parameters\"\n",
    "current_timestamp =12344\n",
    "labelname=\"tttt\"\n",
    "f1_score=0.2\n",
    "accuracy =0.4\n",
    "stability = 0.4\n",
    "\n",
    "df = pd.DataFrame(columns=['model_name', 'model_parameters', \n",
    "                                                        'time_stamp','label_name','cross_val_f1_score','cross_val_acc_score','stability'])\n",
    "df = df.append({'model_name' :model_name,'model_parameters':classifier, \n",
    "                            'time_stamp' :current_timestamp,'label_name':labelname,'cross_val_f1_score':f1_score,'cross_val_acc_score':accuracy,'stability':stability} , ignore_index=True)\n",
    "df.to_csv('history.csv',index=False)\n"
   ]
  },
  {
   "cell_type": "code",
   "execution_count": 22,
   "metadata": {},
   "outputs": [],
   "source": [
    "df=pd.read_csv('history.csv')\n",
    "model_name= \"small_model\"\n",
    "classifier = \"great_parameters\"\n",
    "current_timestamp =12344\n",
    "labelname=\"tttt\"\n",
    "f1_score=0.2\n",
    "accuracy =0.4\n",
    "stability = 0.4\n",
    "\n",
    "\n",
    "df = df.append({'model_name' :model_name,'model_parameters':classifier, \n",
    "                                        'time_stamp' :current_timestamp,'label_name':labelname,'cross_val_f1_score':f1_score,'cross_val_acc_score':accuracy,'stability':stability} , ignore_index=True)\n",
    "df.to_csv('history.csv',index=False)\n"
   ]
  },
  {
   "cell_type": "code",
   "execution_count": 23,
   "metadata": {},
   "outputs": [
    {
     "data": {
      "text/html": [
       "<div>\n",
       "<style scoped>\n",
       "    .dataframe tbody tr th:only-of-type {\n",
       "        vertical-align: middle;\n",
       "    }\n",
       "\n",
       "    .dataframe tbody tr th {\n",
       "        vertical-align: top;\n",
       "    }\n",
       "\n",
       "    .dataframe thead th {\n",
       "        text-align: right;\n",
       "    }\n",
       "</style>\n",
       "<table border=\"1\" class=\"dataframe\">\n",
       "  <thead>\n",
       "    <tr style=\"text-align: right;\">\n",
       "      <th></th>\n",
       "      <th>model_name</th>\n",
       "      <th>model_parameters</th>\n",
       "      <th>time_stamp</th>\n",
       "      <th>label_name</th>\n",
       "      <th>cross_val_f1_score</th>\n",
       "      <th>cross_val_acc_score</th>\n",
       "      <th>stability</th>\n",
       "    </tr>\n",
       "  </thead>\n",
       "  <tbody>\n",
       "    <tr>\n",
       "      <th>0</th>\n",
       "      <td>small_model</td>\n",
       "      <td>great_parameters</td>\n",
       "      <td>12344</td>\n",
       "      <td>tttt</td>\n",
       "      <td>0.2</td>\n",
       "      <td>0.4</td>\n",
       "      <td>0.4</td>\n",
       "    </tr>\n",
       "    <tr>\n",
       "      <th>1</th>\n",
       "      <td>small_model</td>\n",
       "      <td>great_parameters</td>\n",
       "      <td>12344</td>\n",
       "      <td>tttt</td>\n",
       "      <td>0.2</td>\n",
       "      <td>0.4</td>\n",
       "      <td>0.4</td>\n",
       "    </tr>\n",
       "    <tr>\n",
       "      <th>2</th>\n",
       "      <td>small_model</td>\n",
       "      <td>great_parameters</td>\n",
       "      <td>12344</td>\n",
       "      <td>tttt</td>\n",
       "      <td>0.2</td>\n",
       "      <td>0.4</td>\n",
       "      <td>0.4</td>\n",
       "    </tr>\n",
       "  </tbody>\n",
       "</table>\n",
       "</div>"
      ],
      "text/plain": [
       "    model_name  model_parameters  time_stamp label_name  cross_val_f1_score  \\\n",
       "0  small_model  great_parameters       12344       tttt                 0.2   \n",
       "1  small_model  great_parameters       12344       tttt                 0.2   \n",
       "2  small_model  great_parameters       12344       tttt                 0.2   \n",
       "\n",
       "   cross_val_acc_score  stability  \n",
       "0                  0.4        0.4  \n",
       "1                  0.4        0.4  \n",
       "2                  0.4        0.4  "
      ]
     },
     "execution_count": 23,
     "metadata": {},
     "output_type": "execute_result"
    }
   ],
   "source": [
    "df"
   ]
  },
  {
   "cell_type": "code",
   "execution_count": 26,
   "metadata": {},
   "outputs": [],
   "source": [
    "df=pd.read_csv('history.csv')\n"
   ]
  },
  {
   "cell_type": "code",
   "execution_count": 27,
   "metadata": {},
   "outputs": [
    {
     "data": {
      "text/html": [
       "<div>\n",
       "<style scoped>\n",
       "    .dataframe tbody tr th:only-of-type {\n",
       "        vertical-align: middle;\n",
       "    }\n",
       "\n",
       "    .dataframe tbody tr th {\n",
       "        vertical-align: top;\n",
       "    }\n",
       "\n",
       "    .dataframe thead th {\n",
       "        text-align: right;\n",
       "    }\n",
       "</style>\n",
       "<table border=\"1\" class=\"dataframe\">\n",
       "  <thead>\n",
       "    <tr style=\"text-align: right;\">\n",
       "      <th></th>\n",
       "      <th>model_name</th>\n",
       "      <th>model_parameters</th>\n",
       "      <th>time_stamp</th>\n",
       "      <th>label_name</th>\n",
       "      <th>cross_val_f1_score</th>\n",
       "      <th>cross_val_acc_score</th>\n",
       "      <th>stability</th>\n",
       "    </tr>\n",
       "  </thead>\n",
       "  <tbody>\n",
       "    <tr>\n",
       "      <th>0</th>\n",
       "      <td>small_model</td>\n",
       "      <td>great_parameters</td>\n",
       "      <td>1.234400e+04</td>\n",
       "      <td>tttt</td>\n",
       "      <td>0.200000</td>\n",
       "      <td>0.400000</td>\n",
       "      <td>0.400000</td>\n",
       "    </tr>\n",
       "    <tr>\n",
       "      <th>1</th>\n",
       "      <td>small_model</td>\n",
       "      <td>great_parameters</td>\n",
       "      <td>1.234400e+04</td>\n",
       "      <td>tttt</td>\n",
       "      <td>0.200000</td>\n",
       "      <td>0.400000</td>\n",
       "      <td>0.400000</td>\n",
       "    </tr>\n",
       "    <tr>\n",
       "      <th>2</th>\n",
       "      <td>small_model</td>\n",
       "      <td>great_parameters</td>\n",
       "      <td>1.234400e+04</td>\n",
       "      <td>tttt</td>\n",
       "      <td>0.200000</td>\n",
       "      <td>0.400000</td>\n",
       "      <td>0.400000</td>\n",
       "    </tr>\n",
       "    <tr>\n",
       "      <th>3</th>\n",
       "      <td>LogisticRegression</td>\n",
       "      <td>LogisticRegression(C=1.0, class_weight='balanc...</td>\n",
       "      <td>1.567496e+09</td>\n",
       "      <td>offtopic</td>\n",
       "      <td>0.530265</td>\n",
       "      <td>0.661866</td>\n",
       "      <td>0.946437</td>\n",
       "    </tr>\n",
       "  </tbody>\n",
       "</table>\n",
       "</div>"
      ],
      "text/plain": [
       "           model_name                                   model_parameters  \\\n",
       "0         small_model                                   great_parameters   \n",
       "1         small_model                                   great_parameters   \n",
       "2         small_model                                   great_parameters   \n",
       "3  LogisticRegression  LogisticRegression(C=1.0, class_weight='balanc...   \n",
       "\n",
       "     time_stamp label_name  cross_val_f1_score  cross_val_acc_score  stability  \n",
       "0  1.234400e+04       tttt            0.200000             0.400000   0.400000  \n",
       "1  1.234400e+04       tttt            0.200000             0.400000   0.400000  \n",
       "2  1.234400e+04       tttt            0.200000             0.400000   0.400000  \n",
       "3  1.567496e+09   offtopic            0.530265             0.661866   0.946437  "
      ]
     },
     "execution_count": 27,
     "metadata": {},
     "output_type": "execute_result"
    }
   ],
   "source": [
    "df"
   ]
  },
  {
   "cell_type": "code",
   "execution_count": null,
   "metadata": {},
   "outputs": [],
   "source": []
  },
  {
   "cell_type": "code",
   "execution_count": null,
   "metadata": {},
   "outputs": [],
   "source": []
  }
 ],
 "metadata": {
  "kernelspec": {
   "display_name": "Python 3",
   "language": "python",
   "name": "python3"
  },
  "language_info": {
   "codemirror_mode": {
    "name": "ipython",
    "version": 3
   },
   "file_extension": ".py",
   "mimetype": "text/x-python",
   "name": "python",
   "nbconvert_exporter": "python",
   "pygments_lexer": "ipython3",
   "version": "3.7.3"
  }
 },
 "nbformat": 4,
 "nbformat_minor": 2
}
